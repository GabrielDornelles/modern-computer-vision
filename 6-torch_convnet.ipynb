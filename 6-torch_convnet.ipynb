{
 "cells": [
  {
   "cell_type": "markdown",
   "metadata": {},
   "source": [
    "# PyTorch ConvNet\n",
    "\n",
    "Autor: Gabriel Dornelles Monteiro, junho de 2022. Notebook nº5.\n",
    "\n",
    "Neste notebook, iremos construir utilizando o framework PyTorch, o mesmo modelo que construimos anteriormente com os módulos que desenvolvemos na biblioteca Airi. Para isso, verá que o processo é extremamente semelhante, com o diferencial que o PyTorch nos proporciona uma gama gigantesca de módulos com forward e backward implementados!\n",
    "\n",
    "Os imports a seguir são:\n",
    "\n",
    "copy: Utilizaremos para copiar dentro do código o nosso modelo toda vez que ele apresentar uma performance superior a sua melhor versão.\n",
    "\n",
    "time: Utilizaremos para ver o tempo de treinamento.\n",
    "\n",
    "torch: Módulo padrão do pytorch.\n",
    "\n",
    "torch.nn: torch neural net, é o módulo onde temos acesso as implementações dos blocos em forward e backward, além de outras funcionalidades.\n",
    "\n",
    "torch.optim: Módulo contendo os otimizadores (optimizers), como RMSProp, SGD, Adam e muitos outros que não vimos.\n",
    "\n",
    "torchvision.transforms: Módulo onde aplicaremos transformações para todo nosso dataset."
   ]
  },
  {
   "cell_type": "code",
   "execution_count": 1,
   "metadata": {},
   "outputs": [],
   "source": [
    "import copy\n",
    "import time\n",
    "\n",
    "import torch\n",
    "import torch.nn as nn\n",
    "import torch.optim as optim\n",
    "\n",
    "import torchvision.transforms as transforms\n",
    "from torchvision.datasets import CIFAR10"
   ]
  },
  {
   "cell_type": "code",
   "execution_count": 26,
   "metadata": {},
   "outputs": [
    {
     "name": "stdout",
     "output_type": "stream",
     "text": [
      "Files already downloaded and verified\n",
      "Files already downloaded and verified\n"
     ]
    },
    {
     "data": {
      "text/plain": [
       "{'train': <torch.utils.data.dataloader.DataLoader at 0x7f33c8101dc0>,\n",
       " 'val': <torch.utils.data.dataloader.DataLoader at 0x7f33c81ef130>}"
      ]
     },
     "execution_count": 26,
     "metadata": {},
     "output_type": "execute_result"
    }
   ],
   "source": [
    "batch_size = 64\n",
    "\n",
    "transform = transforms.Compose(\n",
    "    [transforms.ToTensor(),\n",
    "     transforms.Normalize((0.485, 0.485, 0.406), (0.229, 0.224, 0.225))])\n",
    "\n",
    "image_datasets = {x: CIFAR10(root='./data', train=True if x==\"train\" else False ,download=True , transform=transform) for x in ['train','val']}\n",
    "dataloaders = {x: torch.utils.data.DataLoader(image_datasets[x], batch_size=batch_size, shuffle=True, num_workers=2) for x in ['train', 'val']}\n",
    "dataset_sizes = {x: len(image_datasets[x]) for x in ['train', 'val']}\n",
    "class_names = image_datasets['train'].classes\n",
    "\n",
    "dataloaders"
   ]
  },
  {
   "cell_type": "markdown",
   "metadata": {},
   "source": [
    "Nosso dataloaders, é um dicionário contendo um dataloader para treino e outro para validação. \n",
    "\n",
    "O Dataloader é um iteravél que nos entrega uma imagem e um label associado, ou neste caso, como especificamos o batch_size em sua criação, nos retorna 64 imagens e os 64 labels associados por iteração. \n",
    "\n",
    "Dessa forma, para acessarmos nosso dataset já organizado em tensores e dividido em batches, basta escrevermos:\n",
    "\n",
    "```py\n",
    "for image, label in dataloader:\n",
    "    # 64 imagens e 64 labels associados por iteração até terminarmos o dataset\n",
    "    batch_images = image\n",
    "    batch_labels = label\n",
    "```"
   ]
  },
  {
   "cell_type": "markdown",
   "metadata": {},
   "source": [
    "## Construção do modelo\n",
    "Construiremos agora o nosso modelo com o PyTorch, lembre que nosso modelo construido com nossa lib era:\n",
    "\n",
    "```py\n",
    "self.model = [\n",
    "            Conv2D(in_channels=3, num_filters=16,filter_size=5, stride=1, pad=0),\n",
    "            Relu(),\n",
    "            Conv2D(in_channels=16, num_filters=16, filter_size=5, stride=1, pad=0),\n",
    "            Relu(),\n",
    "            Flatten(),\n",
    "            Linear(input_size=9216, hidden_size=120, reg=self.reg),\n",
    "            Relu(),\n",
    "            Linear(input_size=120, hidden_size=84, reg=self.reg),\n",
    "            Relu(),\n",
    "            Linear(input_size=84, hidden_size=10, reg=self.reg),\n",
    "            Softmax()\n",
    "        ]\n",
    "```\n",
    "Manteremos o código de maneira extremamente semelhante, apenas não utilizaremos o parâmetro de regularização e mudaremos o nome de alguns argumentos:"
   ]
  },
  {
   "cell_type": "code",
   "execution_count": 5,
   "metadata": {},
   "outputs": [],
   "source": [
    "class TorchDemoConvNet(nn.Module):\n",
    "\n",
    "    def __init__(self):\n",
    "        super().__init__()\n",
    "        self.backbone = nn.Sequential(\n",
    "            nn.Conv2d(in_channels=3, out_channels=16, kernel_size=5, stride=1, padding=0),\n",
    "            nn.ReLU(),\n",
    "            nn.Conv2d(in_channels=16, out_channels=16, kernel_size=5, stride=1, padding=0),\n",
    "            nn.ReLU(),\n",
    "            nn.Flatten(),\n",
    "            nn.Linear(in_features=9216, out_features=120),\n",
    "            nn.ReLU(),\n",
    "            nn.Linear(in_features=120, out_features=84),\n",
    "            nn.ReLU(),\n",
    "            nn.Linear(in_features=84, out_features=10),\n",
    "            nn.Softmax()\n",
    "        )\n",
    "    \n",
    "    def forward(self, x):\n",
    "        return self.backbone(x)"
   ]
  },
  {
   "cell_type": "markdown",
   "metadata": {},
   "source": [
    "# Treinamento\n",
    "Definiremos agora o número de épocas do treinamento, a loss function que utilizaremos (Cross Entropy Loss), o device (onde será treinado o modelo, cpu ou cuda), e definiremos qual otimizador será utilizado para a descida de gradiente junto ao seu learning rate:"
   ]
  },
  {
   "cell_type": "code",
   "execution_count": 27,
   "metadata": {},
   "outputs": [],
   "source": [
    "epoches = 20\n",
    "criterion = nn.CrossEntropyLoss()\n",
    "device = torch.device(\"cuda\")\n",
    "model = TorchDemoConvNet()\n",
    "model.to(device)\n",
    "optimizer = optim.Adam(model.parameters(), lr=3e-4)\n",
    "\n",
    "\n",
    "best_model_wts = copy.deepcopy(model.state_dict())\n",
    "best_acc = 0.0\n",
    "\n",
    "losses = []\n",
    "accs = []"
   ]
  },
  {
   "cell_type": "markdown",
   "metadata": {},
   "source": [
    "O loop de treinamento é feito da seguinte maneira:\n",
    "\n",
    "```py\n",
    "\n",
    "for epoch in range(num_epoches):\n",
    "\n",
    "    model.train()\n",
    "    \n",
    "    for x, y in dataloader:\n",
    "        # x é nossa imagem, y o label associado (em batches)\n",
    "        x, y = x.to(device), y.to(device) # passamos ambas para cpu ou gpu caso utilize cuda\n",
    "        optimizer.zero_grad() # Zeramos os gradientes do nosso otimizador, que os acumula por padrão\n",
    "        predictions = model(x) # passamos ao nosso modelo a imagem, ele retornara sua predição\n",
    "        loss = criterion(predictions, y) # definimos o erro entre a verdadeira label e a label prevista pelo modelo\n",
    "        loss.backward() # Fazemos o backward deste erro pelos módulos de nosso modelo\n",
    "        optimizer.step() # Aplicamos o update nos pesos\n",
    "```\n",
    "\n",
    "É importante declaramos se nosso modelo esta treinando ou se está avaliando, dessa maneira, o PyTorch saberá se precisa ou não guardar informações de resultados que ocorreram durante o forward. \n",
    "\n",
    "Para fazermos isso apenas escrevemos ```model.train()``` ou ```model.eval()```"
   ]
  },
  {
   "cell_type": "code",
   "execution_count": 28,
   "metadata": {},
   "outputs": [
    {
     "name": "stdout",
     "output_type": "stream",
     "text": [
      "\n",
      "Epoch: 0 / 19\n",
      "----------\n"
     ]
    },
    {
     "name": "stderr",
     "output_type": "stream",
     "text": [
      "/home/gabriel/.local/lib/python3.8/site-packages/torch/nn/modules/container.py:141: UserWarning: Implicit dimension choice for softmax has been deprecated. Change the call to include dim=X as an argument.\n",
      "  input = module(input)\n"
     ]
    },
    {
     "name": "stdout",
     "output_type": "stream",
     "text": [
      "Epoch 0 Training Loss: 2.1182\n",
      "Validation accuracy: 0.39479997754096985\n",
      "\n",
      "Epoch: 1 / 19\n",
      "----------\n",
      "Epoch 1 Training Loss: 2.0426\n",
      "Validation accuracy: 0.43359997868537903\n",
      "\n",
      "Epoch: 2 / 19\n",
      "----------\n",
      "Epoch 2 Training Loss: 2.0080\n",
      "Validation accuracy: 0.4537999927997589\n",
      "\n",
      "Epoch: 3 / 19\n",
      "----------\n",
      "Epoch 3 Training Loss: 1.9810\n",
      "Validation accuracy: 0.4763999879360199\n",
      "\n",
      "Epoch: 4 / 19\n",
      "----------\n",
      "Epoch 4 Training Loss: 1.9521\n",
      "Validation accuracy: 0.502299964427948\n",
      "\n",
      "Epoch: 5 / 19\n",
      "----------\n",
      "Epoch 5 Training Loss: 1.9298\n",
      "Validation accuracy: 0.517300009727478\n",
      "\n",
      "Epoch: 6 / 19\n",
      "----------\n",
      "Epoch 6 Training Loss: 1.8845\n",
      "Validation accuracy: 0.5672000050544739\n",
      "\n",
      "Epoch: 7 / 19\n",
      "----------\n",
      "Epoch 7 Training Loss: 1.8455\n",
      "Validation accuracy: 0.5877999663352966\n",
      "\n",
      "Epoch: 8 / 19\n",
      "----------\n",
      "Epoch 8 Training Loss: 1.8267\n",
      "Validation accuracy: 0.5913999676704407\n",
      "\n",
      "Epoch: 9 / 19\n",
      "----------\n",
      "Epoch 9 Training Loss: 1.8097\n",
      "Validation accuracy: 0.5978999733924866\n",
      "\n",
      "Epoch: 10 / 19\n",
      "----------\n",
      "Epoch 10 Training Loss: 1.7933\n",
      "Validation accuracy: 0.608299970626831\n",
      "\n",
      "Epoch: 11 / 19\n",
      "----------\n",
      "Epoch 11 Training Loss: 1.7803\n",
      "Validation accuracy: 0.6003999710083008\n",
      "\n",
      "Epoch: 12 / 19\n",
      "----------\n",
      "Epoch 12 Training Loss: 1.7681\n",
      "Validation accuracy: 0.6105999946594238\n",
      "\n",
      "Epoch: 13 / 19\n",
      "----------\n",
      "Epoch 13 Training Loss: 1.7578\n",
      "Validation accuracy: 0.6119999885559082\n",
      "\n",
      "Epoch: 14 / 19\n",
      "----------\n",
      "Epoch 14 Training Loss: 1.7457\n",
      "Validation accuracy: 0.6158999800682068\n",
      "\n",
      "Epoch: 15 / 19\n",
      "----------\n",
      "Epoch 15 Training Loss: 1.7352\n",
      "Validation accuracy: 0.613599956035614\n",
      "\n",
      "Epoch: 16 / 19\n",
      "----------\n",
      "Epoch 16 Training Loss: 1.7259\n",
      "Validation accuracy: 0.6236000061035156\n",
      "\n",
      "Epoch: 17 / 19\n",
      "----------\n",
      "Epoch 17 Training Loss: 1.7176\n",
      "Validation accuracy: 0.6229999661445618\n",
      "\n",
      "Epoch: 18 / 19\n",
      "----------\n",
      "Epoch 18 Training Loss: 1.7091\n",
      "Validation accuracy: 0.6288999915122986\n",
      "\n",
      "Epoch: 19 / 19\n",
      "----------\n",
      "Epoch 19 Training Loss: 1.7028\n",
      "Validation accuracy: 0.6189000010490417\n",
      "Training Time: 0:01:56.048613\n"
     ]
    }
   ],
   "source": [
    "import datetime\n",
    "start = time.time()\n",
    "\n",
    "\n",
    "for epoch in range(epoches):  \n",
    "\n",
    "    print(f\"\\nEpoch: {epoch} / {(epoches-1)}\")\n",
    "    print(\"----------\")\n",
    "\n",
    "    epoch_loss = 0\n",
    "    model.train()\n",
    "\n",
    "    for x, y in dataloaders[\"train\"]:\n",
    "      x, y = x.to(device), y.to(device)\n",
    "      optimizer.zero_grad()\n",
    "      predictions = model(x)\n",
    "      loss = criterion(predictions, y)\n",
    "      loss.backward()\n",
    "      optimizer.step()\n",
    "      epoch_loss += loss.item()\n",
    "    loss = epoch_loss / len(dataloaders[\"train\"])\n",
    "    print(f\"Epoch {epoch} Training Loss: {loss:.4f}\")\n",
    "    losses.append(loss)\n",
    "    \n",
    "    with torch.no_grad():\n",
    "      model.eval()\n",
    "      correct = 0\n",
    "      samples = 0\n",
    "      for x, y in dataloaders[\"val\"]:\n",
    "        x, y = x.to(device), y.to(device)\n",
    "        predictions = model(x)\n",
    "        _, predictions = predictions.max(1)\n",
    "        correct += (predictions == y).sum()\n",
    "        samples += predictions.size(0)\n",
    "\n",
    "      val_acc = correct/samples\n",
    "      print(f\"Validation accuracy: {val_acc}\")\n",
    "      accs.append(val_acc)\n",
    "      if val_acc > best_acc:\n",
    "        best_acc = val_acc\n",
    "        best_model_wts = copy.deepcopy(model.state_dict())\n",
    "  \n",
    "end = time.time()\n",
    "model.load_state_dict(best_model_wts)\n",
    "torch.save(model.state_dict(),\"torch_convnet.pth\")\n",
    "time_elapsed = datetime.timedelta(seconds=end-start)\n",
    "print(f\"Training Time: {time_elapsed}\")\n"
   ]
  },
  {
   "cell_type": "code",
   "execution_count": 29,
   "metadata": {},
   "outputs": [
    {
     "data": {
      "text/plain": [
       "[Text(0.5, 1.0, 'Train Loss over epochs'),\n",
       " Text(0.5, 0, 'Epoch'),\n",
       " Text(0, 0.5, 'Loss')]"
      ]
     },
     "execution_count": 29,
     "metadata": {},
     "output_type": "execute_result"
    },
    {
     "data": {
      "image/png": "[encoded data removed]",
      "text/plain": [
       "<Figure size 800x450 with 1 Axes>"
      ]
     },
     "metadata": {},
     "output_type": "display_data"
    },
    {
     "data": {
      "image/png": "[encoded data removed]",
      "text/plain": [
       "<Figure size 800x450 with 1 Axes>"
      ]
     },
     "metadata": {},
     "output_type": "display_data"
    }
   ],
   "source": [
    "import matplotlib.pyplot as plt\n",
    "import numpy as np\n",
    "\n",
    "plt.style.use('seaborn')\n",
    "accuracy = np.array(accs) \n",
    "fig, ax = plt.subplots(figsize = (8, 4.5))\n",
    "ax.plot(accuracy, color='purple', label='Model Accuracy') \n",
    "ax.set(title=\"Accuracy over epochs\", \n",
    "        xlabel='Epoch',\n",
    "        ylabel='Accuracy') \n",
    "\n",
    "\n",
    "loss_list = np.array(losses) \n",
    "fig, ax = plt.subplots(figsize = (8, 4.5))\n",
    "ax.plot(loss_list, color='red', label='Loss') \n",
    "ax.set(title=\"Train Loss over epochs\", \n",
    "        xlabel='Epoch',\n",
    "        ylabel='Loss') "
   ]
  },
  {
   "cell_type": "markdown",
   "metadata": {},
   "source": [
    "O Modelo que construimos no PyTorch tem perfomance extremamente semelhante ao que construimos do zero, possui uma precisão máxima de validação em torno de 62%, mesma precisão alcançada no modelo construido com a Airi.\n",
    "\n",
    "Agora que utilizaremos o PyTorch, não precisaremos mais nos preocupar em toda parte de cálculo, derivadas e backward, veja que o framework fará todo este processo por debaixo dos panos!\n",
    "\n",
    "Nossa tarefa agora é entender o que estes módulos fazem, quais devemos juntar, e como podemos construir modelos que consigam otimizar e aproximar as funções que desejamos. \n",
    "\n",
    "Indo muito além da classificação, os modelos de detecção, segmentação, dentre muitas outras tarefas, utilizam os mesmos módulos que vimos e vários outros em conjunto. \n",
    "\n",
    "Entender o processo é importante, mas não é necessário conhecer todas as funções e suas derivadas, agora que já sabemos como tudo é feito, basta entendermos qual a proposta do módulo, o que ele faz, e como ele interage com os demais."
   ]
  }
 ],
 "metadata": {
  "kernelspec": {
   "display_name": "Python 3.8.10 64-bit",
   "language": "python",
   "name": "python3"
  },
  "language_info": {
   "codemirror_mode": {
    "name": "ipython",
    "version": 3
   },
   "file_extension": ".py",
   "mimetype": "text/x-python",
   "name": "python",
   "nbconvert_exporter": "python",
   "pygments_lexer": "ipython3",
   "version": "3.8.10"
  },
  "orig_nbformat": 4,
  "vscode": {
   "interpreter": {
    "hash": "31f2aee4e71d21fbe5cf8b01ff0e069b9275f58929596ceb00d14d90e3e16cd6"
   }
  }
 },
 "nbformat": 4,
 "nbformat_minor": 2
}
